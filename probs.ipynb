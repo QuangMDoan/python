{
 "cells": [
  {
   "cell_type": "code",
   "execution_count": 2,
   "metadata": {},
   "outputs": [
    {
     "name": "stdout",
     "output_type": "stream",
     "text": [
      "Your function returned that the complement of 0.9000 is: 0.1000 \n"
     ]
    }
   ],
   "source": [
    "def complement(p_A):\n",
    "    complement = 1 - p_A\n",
    "\n",
    "    return complement\n",
    "\n",
    "p_test = 0.9\n",
    "complement_test = complement(p_test)\n",
    "print(f'Your function returned that the complement of {p_test:.4f} is: {complement_test:.4f} ')"
   ]
  },
  {
   "cell_type": "code",
   "execution_count": 4,
   "metadata": {},
   "outputs": [
    {
     "name": "stdout",
     "output_type": "stream",
     "text": [
      "That's right!\n"
     ]
    }
   ],
   "source": [
    "test_value = 0.4265\n",
    "\n",
    "comp = complement(test_value)\n",
    "correct_comp = 1-test_value\n",
    "\n",
    "try:\n",
    "    assert(abs(comp - correct_comp) < 0.0001)\n",
    "    print('That\\'s right!')\n",
    "except:\n",
    "    print (f'Your code returned that the complement is: {comp:.4f}, which does not match the correct value {correct_comp:.4f}')\n",
    "    \n"
   ]
  },
  {
   "cell_type": "code",
   "execution_count": 5,
   "metadata": {},
   "outputs": [
    {
     "name": "stdout",
     "output_type": "stream",
     "text": [
      "That's right!\n"
     ]
    }
   ],
   "source": [
    "def joint(p_A, p_B):\n",
    "    joint = p_A*p_B\n",
    "    return joint\n",
    "\n",
    "test_A = 0.15\n",
    "test_B = 0.42\n",
    "j = joint(test_A, test_B)\n",
    "correct_j = test_A * test_B\n",
    "\n",
    "try:\n",
    "    assert(abs(j-correct_j) < 0.0001)\n",
    "    print('That\\'s right!')\n",
    "except:\n",
    "    print (f'Your code returned that the complement is: {j:.4f}, which does not match the correct value {correct_j:.4f}')"
   ]
  },
  {
   "cell_type": "markdown",
   "metadata": {},
   "source": [
    "# Total Probability\n",
    "This code is based on a medical diagnostic use of Bayes' rule.\n",
    "\n",
    "The `total_probability` function automatically calculates the total probability of a positive test result, given the prior probability of someone having the disease, p_disease, and the conditional probability of the test being positive given whether a person being tested has or does not have the disease p_pos_given_disease and p_pos_given_no_disease. In our usual math notation, these would look like:\n",
    "\n",
    "            𝑃(𝐷𝑖𝑠𝑒𝑎𝑠𝑒)\n",
    "            \n",
    "            𝑃(𝑃𝑜𝑠𝑖𝑡𝑖𝑣𝑒𝑇𝑒𝑠𝑡|𝐷𝑖𝑠𝑒𝑎𝑠𝑒)\n",
    "            \n",
    "            𝑃(𝑃𝑜𝑠𝑖𝑡𝑖𝑣𝑒𝑇𝑒𝑠𝑡|¬𝐷𝑖𝑠𝑒𝑎𝑠𝑒)\n",
    " \n",
    "This function takes in those three probabilities as input and should return a single value; the total probability of a positive test. It will be up to you to code this functionality!"
   ]
  },
  {
   "cell_type": "code",
   "execution_count": 11,
   "metadata": {},
   "outputs": [
    {
     "name": "stdout",
     "output_type": "stream",
     "text": [
      "Your function returned that the total probability is: 0.6\n"
     ]
    }
   ],
   "source": [
    "def total_probability(p_disease, p_pos_given_disease, p_pos_given_no_disease):\n",
    "    total = p_disease * p_pos_given_disease + (1-p_disease) * p_pos_given_no_disease\n",
    "    return total\n",
    "\n",
    "p_disease = 0.2\n",
    "p_pos_given_disease = 0.6 \n",
    "p_pos_given_no_disease = 0.6\n",
    "\n",
    "tot = total_probability(p_disease, p_pos_given_disease, p_pos_given_no_disease)\n",
    "print(f'Your function returned that the total probability is: {tot}')"
   ]
  },
  {
   "cell_type": "code",
   "execution_count": 9,
   "metadata": {},
   "outputs": [
    {
     "name": "stdout",
     "output_type": "stream",
     "text": [
      "That's right!\n"
     ]
    }
   ],
   "source": [
    "p_disease = 0.1\n",
    "p_pos_given_disease = 0.9\n",
    "p_pos_given_no_disease = 0.2\n",
    "\n",
    "total = total_probability(p_disease, p_pos_given_disease, p_pos_given_no_disease)\n",
    "correct_total = p_disease * p_pos_given_disease + (1-p_disease) * p_pos_given_no_disease\n",
    "try:\n",
    "    assert(abs(j-correct_j) < 0.0001)\n",
    "    print('That\\'s right!')\n",
    "except:\n",
    "    print (f'Your code returned that the complement is: {j:.4f}, which does not match the correct value {correct_j:.4f}')"
   ]
  },
  {
   "cell_type": "markdown",
   "metadata": {},
   "source": [
    "# Baye's Rule   \n",
    "    P(A) = 0.2\n",
    "    P(B|A) = 0.9\n",
    "    P(~B|~A) = 0.5\n",
    "    \n",
    "Compute the posterior probability `P(A|B)`\n"
   ]
  },
  {
   "cell_type": "code",
   "execution_count": 16,
   "metadata": {},
   "outputs": [
    {
     "name": "stdout",
     "output_type": "stream",
     "text": [
      "Your function returned that the posterior is: 0.7500\n"
     ]
    }
   ],
   "source": [
    "def bayes(p_A, p_B_given_A, p_notB_given_notA):\n",
    "    p_B_given_notA = 1-p_notB_given_notA\n",
    "    posterior = (p_B_given_A * p_A) / (p_A * p_B_given_A + (1-p_A) * p_B_given_notA) \n",
    "    return posterior\n",
    "\n",
    "p_A = 0.3\n",
    "p_B_given_A = 0.7\n",
    "p_notB_given_notA = 0.9\n",
    "\n",
    "posterior = bayes(p_A, p_B_given_A, p_notB_given_notA)\n",
    "print(f'Your function returned that the posterior is: {posterior:.4f}')"
   ]
  }
 ],
 "metadata": {
  "kernelspec": {
   "display_name": "Python 3",
   "language": "python",
   "name": "python3"
  },
  "language_info": {
   "codemirror_mode": {
    "name": "ipython",
    "version": 3
   },
   "file_extension": ".py",
   "mimetype": "text/x-python",
   "name": "python",
   "nbconvert_exporter": "python",
   "pygments_lexer": "ipython3",
   "version": "3.11.4"
  },
  "orig_nbformat": 4
 },
 "nbformat": 4,
 "nbformat_minor": 2
}
