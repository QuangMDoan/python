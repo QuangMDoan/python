{
 "cells": [
  {
   "cell_type": "code",
   "execution_count": 35,
   "metadata": {},
   "outputs": [
    {
     "name": "stdout",
     "output_type": "stream",
     "text": [
      "In 10000000 trials there were 4998033 heads and 5001967 tails\n",
      "PERCENT HEADS: 49.98033 percent\n"
     ]
    }
   ],
   "source": [
    "import random as rd\n",
    "\n",
    "num_trials = 10000000\n",
    "heads = 0\n",
    "tails = 0\n",
    "p_heads = 0.5\n",
    "\n",
    "# Simulate coin flips up to num_trials specified\n",
    "for i in range(num_trials):\n",
    "\n",
    "    random_number = rd.random()\n",
    "    if random_number < p_heads:\n",
    "        heads += 1\n",
    "    else:\n",
    "        tails += 1\n",
    "\n",
    "print(f\"In {num_trials} trials there were {heads} heads and {tails} tails\")\n",
    "print(f\"PERCENT HEADS: {100 * heads/num_trials} percent\")\n"
   ]
  },
  {
   "cell_type": "code",
   "execution_count": 36,
   "metadata": {},
   "outputs": [],
   "source": [
    "import random as rd\n",
    "\n",
    "def simulate_coin_flips(num_trials):\n",
    "    '''\n",
    "    A function to simulate coin flips\n",
    "    \n",
    "    Args:\n",
    "        num_trials (int): The number of coin flip \n",
    "                            trials to simulate\n",
    "        Returns:\n",
    "            float: The percentage of heads from the trials\n",
    "    '''\n",
    "    heads = 0\n",
    "    tails = 0\n",
    "    p_heads = 0.5\n",
    "\n",
    "    # Simulate coin flips up to num_trials specified\n",
    "    for i in range(num_trials):\n",
    "\n",
    "        random_number = rd.random()\n",
    "        if random_number < p_heads:\n",
    "            heads += 1\n",
    "        else:\n",
    "            tails += 1\n",
    "    percent_heads = heads / num_trials\n",
    "    return percent_heads\n",
    "\n",
    "\n"
   ]
  },
  {
   "cell_type": "code",
   "execution_count": 37,
   "metadata": {},
   "outputs": [
    {
     "name": "stdout",
     "output_type": "stream",
     "text": [
      "0.49\n"
     ]
    }
   ],
   "source": [
    "print(simulate_coin_flips(100))"
   ]
  },
  {
   "cell_type": "code",
   "execution_count": 38,
   "metadata": {},
   "outputs": [
    {
     "name": "stdout",
     "output_type": "stream",
     "text": [
      "0.4982\n"
     ]
    }
   ],
   "source": [
    "print(simulate_coin_flips(10000))"
   ]
  },
  {
   "cell_type": "code",
   "execution_count": 39,
   "metadata": {},
   "outputs": [
    {
     "name": "stdout",
     "output_type": "stream",
     "text": [
      "0.49949\n"
     ]
    }
   ],
   "source": [
    "print(simulate_coin_flips(100000))"
   ]
  }
 ],
 "metadata": {
  "kernelspec": {
   "display_name": "Python 3",
   "language": "python",
   "name": "python3"
  },
  "language_info": {
   "codemirror_mode": {
    "name": "ipython",
    "version": 3
   },
   "file_extension": ".py",
   "mimetype": "text/x-python",
   "name": "python",
   "nbconvert_exporter": "python",
   "pygments_lexer": "ipython3",
   "version": "3.11.4"
  },
  "orig_nbformat": 4
 },
 "nbformat": 4,
 "nbformat_minor": 2
}
