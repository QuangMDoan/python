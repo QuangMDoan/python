{
 "cells": [
  {
   "cell_type": "code",
   "execution_count": 4,
   "metadata": {},
   "outputs": [
    {
     "name": "stdout",
     "output_type": "stream",
     "text": [
      "[[0 0 0 1 0]\n",
      " [0 0 0 1 0]\n",
      " [0 1 1 0 0]\n",
      " [0 0 0 0 1]\n",
      " [1 0 0 1 0]\n",
      " [1 0 0 0 0]]\n",
      "The shape of the array is: (6, 5)\n",
      "The height of the world is: 6\n",
      "The width of the matrix is: 5\n"
     ]
    }
   ],
   "source": [
    "# A simple robot world can be defined by a 2D array\n",
    "import numpy as np\n",
    "\n",
    "world = np.array([\n",
    "    [0, 0, 0, 1, 0],\n",
    "    [0, 0, 0, 1, 0],\n",
    "    [0, 1, 1, 0, 0],\n",
    "    [0, 0, 0, 0, 1],\n",
    "    [1, 0, 0, 1, 0],\n",
    "    [1, 0, 0, 0, 0]\n",
    "])\n",
    "\n",
    "print(world)\n",
    "print(f'The shape of the array is: {world.shape}')\n",
    "print(f\"The height of the world is: {world.shape[0]}\")\n",
    "print(f\"The width of the matrix is: {world.shape[1]}\")"
   ]
  },
  {
   "cell_type": "code",
   "execution_count": 15,
   "metadata": {},
   "outputs": [
    {
     "name": "stdout",
     "output_type": "stream",
     "text": [
      "[(0, 3), (1, 3), (2, 1), (2, 2), (3, 4), (4, 0), (4, 3), (5, 0)]\n"
     ]
    }
   ],
   "source": [
    "# store indices of tree locations\n",
    "indices = []\n",
    "for y in range(len(world)):\n",
    "    for x in range(len(world[y])):\n",
    "        if world[y,x] == 1:\n",
    "            indices.append((y,x))\n",
    "print(indices)"
   ]
  },
  {
   "cell_type": "code",
   "execution_count": 17,
   "metadata": {},
   "outputs": [
    {
     "name": "stdout",
     "output_type": "stream",
     "text": [
      "[(0, 3), (1, 3), (2, 1), (2, 2), (3, 4), (4, 0), (4, 3), (5, 0)]\n"
     ]
    }
   ],
   "source": [
    "# store indices of tree locations\n",
    "indices = [(y,x) for y in range(world.shape[0]) \n",
    "                 for x in range(world.shape[1]) if world[y,x] == 1]  \n",
    "\n",
    "print(indices)"
   ]
  },
  {
   "cell_type": "code",
   "execution_count": 18,
   "metadata": {},
   "outputs": [
    {
     "name": "stdout",
     "output_type": "stream",
     "text": [
      "\n",
      " [[0 0 1 1 0]\n",
      " [0 0 0 1 0]\n",
      " [0 1 1 0 0]\n",
      " [0 0 0 0 1]\n",
      " [1 0 0 1 0]\n",
      " [1 0 0 0 0]]\n"
     ]
    }
   ],
   "source": [
    "# Define a function to plant a tree\n",
    "def plant_tree(y, x):\n",
    "    if y < world.shape[0] and x < world.shape[1]:\n",
    "        world[y,x] = 1\n",
    "        print(f'\\n {world}')\n",
    "        \n",
    "plant_tree(0,2)"
   ]
  },
  {
   "cell_type": "markdown",
   "metadata": {},
   "source": [
    "# Robot world\n",
    "\n",
    "- A robot is navigating a 4x5 orange and blue world\n",
    "- The robot has a sensor that tells it the color of the square its on top of \n",
    "and the color of the square directly to its right\n",
    "\n",
    "<img src=\"world.png\">"
   ]
  },
  {
   "cell_type": "code",
   "execution_count": 25,
   "metadata": {},
   "outputs": [
    {
     "name": "stdout",
     "output_type": "stream",
     "text": [
      "[[0, 1], [1, 2], [2, 0], [2, 3], [3, 0]]\n"
     ]
    }
   ],
   "source": [
    "import numpy as np\n",
    "world = np.array([\n",
    "    ['o', 'b', 'o', 'o', 'b'],\n",
    "    ['o', 'o', 'b', 'o', 'o'],\n",
    "    ['b', 'o', 'o', 'b', 'o'],\n",
    "    ['b', 'o', 'o', 'o', 'o']\n",
    "    ])\n",
    "\n",
    "measurement = ['b', 'o']\n",
    "\n",
    "def find_match(world, measurement):\n",
    "    possible_locations = [[y, x] for y in range(world.shape[0]) \n",
    "                                 for x in range(world.shape[1]-1) \n",
    "                                       if world[y,x] == measurement[0] and world[y,x+1] == measurement[1]]\n",
    "    return possible_locations\n",
    "\n",
    "locations = find_match(world, measurement)\n",
    "print(locations)"
   ]
  },
  {
   "cell_type": "code",
   "execution_count": 35,
   "metadata": {},
   "outputs": [
    {
     "name": "stdout",
     "output_type": "stream",
     "text": [
      "[['o' 'b' 'o' 'o' 'b']\n",
      " ['o' 'o' 'b' 'o' 'o']\n",
      " ['b' 'o' 'o' 'b' 'o']\n",
      " ['b' 'o' 'o' 'o' 'o']]\n",
      "\n",
      " [['o' 'b' 'o' 'o' 'b' 'o' 'o' 'b' 'o' 'o' 'b' 'o' 'o' 'b' 'o' 'b' 'o' 'o'\n",
      "  'o' 'o']]\n"
     ]
    }
   ],
   "source": [
    "print(world)\n",
    "world_1d = np.reshape(world, (1, -1))\n",
    "print(f'\\n {world_1d}')"
   ]
  },
  {
   "cell_type": "code",
   "execution_count": 36,
   "metadata": {},
   "outputs": [
    {
     "name": "stdout",
     "output_type": "stream",
     "text": [
      "[[0. 0. 0. 0.]\n",
      " [0. 0. 0. 0.]\n",
      " [0. 0. 0. 0.]\n",
      " [0. 0. 0. 0.]\n",
      " [0. 0. 0. 0.]]\n"
     ]
    }
   ],
   "source": [
    "zero_world = np.zeros((5, 4))\n",
    "print(zero_world)"
   ]
  }
 ],
 "metadata": {
  "kernelspec": {
   "display_name": "Python 3",
   "language": "python",
   "name": "python3"
  },
  "language_info": {
   "codemirror_mode": {
    "name": "ipython",
    "version": 3
   },
   "file_extension": ".py",
   "mimetype": "text/x-python",
   "name": "python",
   "nbconvert_exporter": "python",
   "pygments_lexer": "ipython3",
   "version": "3.11.4"
  },
  "orig_nbformat": 4
 },
 "nbformat": 4,
 "nbformat_minor": 2
}
