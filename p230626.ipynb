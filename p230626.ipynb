{
 "cells": [
  {
   "cell_type": "code",
   "execution_count": 1,
   "metadata": {},
   "outputs": [
    {
     "name": "stdout",
     "output_type": "stream",
     "text": [
      "Green\n",
      "Yellow\n",
      "Red\n",
      "Green\n",
      "Yellow\n",
      "Red\n",
      "Green\n",
      "Yellow\n",
      "Red\n",
      "Green\n",
      "Yellow\n",
      "Red\n",
      "Green\n",
      "Yellow\n",
      "Red\n",
      "Green\n",
      "Yellow\n",
      "Red\n"
     ]
    },
    {
     "ename": "KeyboardInterrupt",
     "evalue": "",
     "output_type": "error",
     "traceback": [
      "\u001b[1;31m---------------------------------------------------------------------------\u001b[0m",
      "\u001b[1;31mKeyboardInterrupt\u001b[0m                         Traceback (most recent call last)",
      "Cell \u001b[1;32mIn[1], line 12\u001b[0m\n\u001b[0;32m     10\u001b[0m c,s \u001b[39m=\u001b[39m \u001b[39mnext\u001b[39m(colors)\n\u001b[0;32m     11\u001b[0m \u001b[39mprint\u001b[39m(c)\n\u001b[1;32m---> 12\u001b[0m time\u001b[39m.\u001b[39msleep(s)\n",
      "\u001b[1;31mKeyboardInterrupt\u001b[0m: "
     ]
    }
   ],
   "source": [
    "import time \n",
    "from itertools import cycle\n",
    "lights = [\n",
    "    ('Green', 2),\n",
    "    ('Yellow', 0.5),\n",
    "    ('Red', 2)\n",
    "]\n",
    "colors = cycle(lights)\n",
    "while True:\n",
    "    c,s = next(colors)\n",
    "    print(c)\n",
    "    time.sleep(s)"
   ]
  }
 ],
 "metadata": {
  "kernelspec": {
   "display_name": "Python 3",
   "language": "python",
   "name": "python3"
  },
  "language_info": {
   "codemirror_mode": {
    "name": "ipython",
    "version": 3
   },
   "file_extension": ".py",
   "mimetype": "text/x-python",
   "name": "python",
   "nbconvert_exporter": "python",
   "pygments_lexer": "ipython3",
   "version": "3.11.4"
  },
  "orig_nbformat": 4
 },
 "nbformat": 4,
 "nbformat_minor": 2
}
