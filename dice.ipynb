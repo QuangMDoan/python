{
 "cells": [
  {
   "cell_type": "code",
   "execution_count": 46,
   "metadata": {},
   "outputs": [
    {
     "name": "stdout",
     "output_type": "stream",
     "text": [
      "0.1654\n"
     ]
    }
   ],
   "source": [
    "# roll two six sided dice and then add the numbers together\n",
    "# What's the probability that the sum is equal to 7?\n",
    "import random\n",
    "n = 10000\n",
    "dice = [1, 2, 3, 4, 5, 6]\n",
    "rolls = [1 for i in range(n) if sum([random.choice(dice), random.choice(dice)]) == 7]\n",
    "print(sum(rolls)/n)"
   ]
  }
 ],
 "metadata": {
  "kernelspec": {
   "display_name": "Python 3",
   "language": "python",
   "name": "python3"
  },
  "language_info": {
   "codemirror_mode": {
    "name": "ipython",
    "version": 3
   },
   "file_extension": ".py",
   "mimetype": "text/x-python",
   "name": "python",
   "nbconvert_exporter": "python",
   "pygments_lexer": "ipython3",
   "version": "3.11.4"
  },
  "orig_nbformat": 4
 },
 "nbformat": 4,
 "nbformat_minor": 2
}
