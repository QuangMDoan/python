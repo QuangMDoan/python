{
 "cells": [
  {
   "cell_type": "markdown",
   "metadata": {},
   "source": [
    "# Probability distribution \n",
    "\n",
    "- Watch https://www.youtube.com/watch?v=Srt0yZSCrbY\n"
   ]
  },
  {
   "cell_type": "code",
   "execution_count": 1,
   "metadata": {},
   "outputs": [
    {
     "name": "stdout",
     "output_type": "stream",
     "text": [
      "54\n",
      "111\n",
      "163\n",
      "222\n",
      "277\n",
      "336\n",
      "276\n",
      "220\n",
      "171\n",
      "111\n",
      "59\n"
     ]
    }
   ],
   "source": [
    "count_data = [54, 111, 163, 222, 277, 336, 276, 220, 171, 111, 59]\n",
    "for i in range(len(count_data)):\n",
    "    print(count_data[i])"
   ]
  },
  {
   "cell_type": "code",
   "execution_count": 2,
   "metadata": {},
   "outputs": [
    {
     "name": "stdout",
     "output_type": "stream",
     "text": [
      "2000\n"
     ]
    }
   ],
   "source": [
    "total_count = sum(count_data)\n",
    "print(total_count)"
   ]
  },
  {
   "cell_type": "code",
   "execution_count": 10,
   "metadata": {},
   "outputs": [
    {
     "name": "stdout",
     "output_type": "stream",
     "text": [
      "Inputs should be numbers not strings\n",
      "Nice work!\n"
     ]
    }
   ],
   "source": [
    "def probability_range_improved(low_range, high_range, minimum, maximum):\n",
    "    if isinstance(low_range, str) or isinstance(high_range, str) or isinstance(minimum, str) or isinstance(maximum, str):\n",
    "        print(\"Inputs should be numbers not strings\")\n",
    "        return None\n",
    "    else:\n",
    "        return abs((high_range-low_range)/(maximum - minimum))\n",
    "\n",
    "assert probability_range_improved('a', 0 ,-100, 500) == None\n",
    "assert f\"{probability_range_improved(700, 25, 5, 800):.2f}\" == \"0.85\"\n",
    "print(\"Nice work!\")"
   ]
  },
  {
   "cell_type": "code",
   "execution_count": 14,
   "metadata": {},
   "outputs": [
    {
     "name": "stdout",
     "output_type": "stream",
     "text": [
      "Inputs should be numbers not strings\n",
      "Your low range value must be between minimum and maximum\n",
      "The high range value must be between minimum and maximum\n",
      "Nice work!\n"
     ]
    }
   ],
   "source": [
    "def probability_range_improved(low_range, high_range, minimum, maximum):\n",
    "    if isinstance(low_range, str) or isinstance(high_range, str) or isinstance(minimum, str) or isinstance(maximum, str):\n",
    "        print(\"Inputs should be numbers not strings\")\n",
    "        return None\n",
    "\n",
    "    if not minimum <= low_range <= maximum: \n",
    "        print(\"Your low range value must be between minimum and maximum\")\n",
    "        return None\n",
    "\n",
    "    if not minimum <= high_range <= maximum:\n",
    "        print(\"The high range value must be between minimum and maximum\")\n",
    "        return None\n",
    "\n",
    "    return abs((high_range-low_range)/(maximum - minimum))\n",
    "\n",
    "assert probability_range_improved('a', 0 ,-100, 500) == None\n",
    "assert probability_range_improved(-100, 300, 100, 500) == None\n",
    "assert probability_range_improved(105, 700, 100, 500) == None\n",
    "assert f\"{probability_range_improved(700, 25, 5, 800):.2f}\" == \"0.85\"\n",
    "print(\"Nice work!\")"
   ]
  }
 ],
 "metadata": {
  "kernelspec": {
   "display_name": "Python 3",
   "language": "python",
   "name": "python3"
  },
  "language_info": {
   "codemirror_mode": {
    "name": "ipython",
    "version": 3
   },
   "file_extension": ".py",
   "mimetype": "text/x-python",
   "name": "python",
   "nbconvert_exporter": "python",
   "pygments_lexer": "ipython3",
   "version": "3.11.4"
  },
  "orig_nbformat": 4
 },
 "nbformat": 4,
 "nbformat_minor": 2
}
