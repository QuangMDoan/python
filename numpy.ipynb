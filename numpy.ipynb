{
 "cells": [
  {
   "cell_type": "code",
   "execution_count": 2,
   "metadata": {},
   "outputs": [
    {
     "name": "stdout",
     "output_type": "stream",
     "text": [
      "The length of this array is: 7\n"
     ]
    }
   ],
   "source": [
    "import numpy as np\n",
    "road = np.array(['r', 'r', 'r', 'r', 'r', 's', 'r'])\n",
    "print(f'The length of this array is: {len(road)}')\n"
   ]
  },
  {
   "cell_type": "code",
   "execution_count": 6,
   "metadata": {},
   "outputs": [
    {
     "name": "stdout",
     "output_type": "stream",
     "text": [
      "Value at index [0] = r\n",
      "Value at index [-1] = r\n",
      "Value at index [-2] = s\n"
     ]
    }
   ],
   "source": [
    "value = road[0]\n",
    "print(f'Value at index [0] = {value}')\n",
    "\n",
    "value_end = road[-1]\n",
    "print(f'Value at index [-1] = {value_end}')\n",
    "\n",
    "value_stop = road[-2]\n",
    "print(f'Value at index [-2] = {value_stop}')"
   ]
  },
  {
   "cell_type": "code",
   "execution_count": 7,
   "metadata": {},
   "outputs": [
    {
     "name": "stdout",
     "output_type": "stream",
     "text": [
      "road[0] = r\n",
      "road[1] = r\n",
      "road[2] = r\n",
      "road[3] = r\n",
      "road[4] = r\n",
      "road[5] = s\n",
      "road[6] = r\n"
     ]
    }
   ],
   "source": [
    "# Iterate through the array\n",
    "for index in range(0, len(road)):\n",
    "    value = road[index]\n",
    "    print(f'road[{index}] = {value}')"
   ]
  },
  {
   "cell_type": "code",
   "execution_count": 8,
   "metadata": {},
   "outputs": [
    {
     "name": "stdout",
     "output_type": "stream",
     "text": [
      "0\n",
      "1\n",
      "2\n",
      "3\n",
      "We've reached the middle of the road and we're leaving the loop!\n"
     ]
    }
   ],
   "source": [
    "for index in range(0, len(road)):\n",
    "    print(index)\n",
    "    if index == 3:\n",
    "        print('We\\'ve reached the middle of the road and we\\'re leaving the loop!')\n",
    "        break\n"
   ]
  }
 ],
 "metadata": {
  "kernelspec": {
   "display_name": "Python 3",
   "language": "python",
   "name": "python3"
  },
  "language_info": {
   "codemirror_mode": {
    "name": "ipython",
    "version": 3
   },
   "file_extension": ".py",
   "mimetype": "text/x-python",
   "name": "python",
   "nbconvert_exporter": "python",
   "pygments_lexer": "ipython3",
   "version": "3.11.4"
  },
  "orig_nbformat": 4
 },
 "nbformat": 4,
 "nbformat_minor": 2
}
