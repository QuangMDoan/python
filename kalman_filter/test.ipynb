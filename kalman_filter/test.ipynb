{
 "cells": [
  {
   "cell_type": "code",
   "execution_count": 4,
   "metadata": {},
   "outputs": [
    {
     "name": "stdout",
     "output_type": "stream",
     "text": [
      "12\n"
     ]
    }
   ],
   "source": [
    "import matrix as m\n",
    "from matrix import dot\n",
    "v1 = [1, 2, 3]\n",
    "v2 = [2, 2, 2]\n",
    "d = dot(v1, v2)\n",
    "print(d)"
   ]
  },
  {
   "cell_type": "code",
   "execution_count": 5,
   "metadata": {},
   "outputs": [
    {
     "name": "stdout",
     "output_type": "stream",
     "text": [
      "  1.00   2.00\n",
      "  3.00   4.00\n",
      "\n"
     ]
    }
   ],
   "source": [
    "grid = [[1, 2], [3, 4]]\n",
    "m2 = m.Matrix(grid)\n",
    "print(m2)"
   ]
  },
  {
   "cell_type": "code",
   "execution_count": 6,
   "metadata": {},
   "outputs": [
    {
     "name": "stdout",
     "output_type": "stream",
     "text": [
      " -1.00  -2.00\n",
      " -3.00  -4.00\n",
      "\n"
     ]
    }
   ],
   "source": [
    "m3 = -m2\n",
    "print(m3)"
   ]
  },
  {
   "cell_type": "code",
   "execution_count": 9,
   "metadata": {},
   "outputs": [
    {
     "name": "stdout",
     "output_type": "stream",
     "text": [
      " -7.00 -10.00\n",
      "-15.00 -22.00\n",
      "\n"
     ]
    }
   ],
   "source": [
    "m4 = m2*m3\n",
    "print(m4)"
   ]
  }
 ],
 "metadata": {
  "kernelspec": {
   "display_name": "env",
   "language": "python",
   "name": "python3"
  },
  "language_info": {
   "codemirror_mode": {
    "name": "ipython",
    "version": 3
   },
   "file_extension": ".py",
   "mimetype": "text/x-python",
   "name": "python",
   "nbconvert_exporter": "python",
   "pygments_lexer": "ipython3",
   "version": "3.11.4"
  }
 },
 "nbformat": 4,
 "nbformat_minor": 2
}
