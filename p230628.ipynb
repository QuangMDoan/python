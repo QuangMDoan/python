{
 "cells": [
  {
   "cell_type": "code",
   "execution_count": 11,
   "metadata": {},
   "outputs": [
    {
     "name": "stdout",
     "output_type": "stream",
     "text": [
      "the square of 0 is 0\n",
      "the square of 1 is 1\n",
      "the square of 2 is 4\n",
      "the square of 3 is 9\n"
     ]
    }
   ],
   "source": [
    "# Using f strings\n",
    "from functions import square\n",
    "for i in range(4):\n",
    "    print(f\"the square of {i} is {square(i)}\")"
   ]
  },
  {
   "cell_type": "code",
   "execution_count": 14,
   "metadata": {},
   "outputs": [
    {
     "name": "stdout",
     "output_type": "stream",
     "text": [
      "About to run the function...\n",
      "Hello World\n",
      "Done with the function.\n"
     ]
    }
   ],
   "source": [
    "# Introducing decorators\n",
    "def announce(f):\n",
    "    def wrapper():\n",
    "        print(\"About to run the function...\")\n",
    "        f()\n",
    "        print(\"Done with the function.\")\n",
    "    return wrapper\n",
    "\n",
    "@announce\n",
    "def hello():\n",
    "    print(\"Hello World\")\n",
    "\n",
    "hello()"
   ]
  },
  {
   "cell_type": "code",
   "execution_count": 15,
   "metadata": {},
   "outputs": [
    {
     "name": "stdout",
     "output_type": "stream",
     "text": [
      "Passenger A is added to the flight sucessfully\n",
      "Passenger B is added to the flight sucessfully\n",
      "Passenger C is added to the flight sucessfully\n",
      "No available seats for D\n"
     ]
    }
   ],
   "source": [
    "# OOP example\n",
    "class Flight():\n",
    "    def __init__(self, capacity):\n",
    "        self.capacity = capacity\n",
    "        self.passengers = []\n",
    "    \n",
    "    def add_passenger(self, name):\n",
    "        if not self.open_seats():\n",
    "            return False\n",
    "        self.passengers.append(name)\n",
    "        return True\n",
    "    \n",
    "    def open_seats(self):\n",
    "        return self.capacity - len(self.passengers)\n",
    "    \n",
    "flight = Flight(3)\n",
    "\n",
    "people = [\"A\", \"B\", \"C\", \"D\"]\n",
    "for person in people:\n",
    "    success = flight.add_passenger(person)\n",
    "    if success: \n",
    "        print(f\"Passenger {person} is added to the flight sucessfully\")\n",
    "    else:\n",
    "        print(f\"No available seats for {person}\")"
   ]
  }
 ],
 "metadata": {
  "kernelspec": {
   "display_name": "Python 3",
   "language": "python",
   "name": "python3"
  },
  "language_info": {
   "codemirror_mode": {
    "name": "ipython",
    "version": 3
   },
   "file_extension": ".py",
   "mimetype": "text/x-python",
   "name": "python",
   "nbconvert_exporter": "python",
   "pygments_lexer": "ipython3",
   "version": "3.11.4"
  },
  "orig_nbformat": 4
 },
 "nbformat": 4,
 "nbformat_minor": 2
}
