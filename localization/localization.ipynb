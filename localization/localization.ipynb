{
 "cells": [
  {
   "cell_type": "markdown",
   "metadata": {},
   "source": [
    "# prior belief, measurement update, posterior belief\n",
    "\n",
    "Assuming that the robot has a map of the world and knows what a door looks like.\n",
    "- How the robot changes its belief when it senses\n",
    "- Here is how we model this change of belief https://youtu.be/n1EacrqyCs8"
   ]
  },
  {
   "cell_type": "code",
   "execution_count": 28,
   "metadata": {},
   "outputs": [],
   "source": [
    "# The prior belief could be modelled with a UNIFORM probability\n",
    "# distribution over the grid cells\n",
    "n = 5\n",
    "p = [1./n for i in range(n)]"
   ]
  },
  {
   "cell_type": "code",
   "execution_count": 54,
   "metadata": {},
   "outputs": [
    {
     "name": "stdout",
     "output_type": "stream",
     "text": [
      "[0.2, 0.2, 0.2, 0.2, 0.2] sum(p) = 1.00\n",
      "[0.1111, 0.3333, 0.3333, 0.1111, 0.1111] sum(p) = 1.00\n",
      "------------------------------------------------------------\n",
      "[0.1111, 0.3333, 0.3333, 0.1111, 0.1111] sum(p) = 1.00\n",
      "[0.2, 0.2, 0.2, 0.2, 0.2] sum(p) = 1.00\n",
      "------------------------------------------------------------\n"
     ]
    }
   ],
   "source": [
    "# Measurement update\n",
    "# https://youtu.be/UFcTLCttNRI\n",
    "# https://youtu.be/SW_wvez0izo\n",
    "\n",
    "p = [1./n for i in range(n)]\n",
    "\n",
    "pHit = 0.6\n",
    "pMiss = 0.2\n",
    "world = ['green', 'red', 'red', 'green', 'green']\n",
    "measurements = ['red', 'green']\n",
    "\n",
    "# sensor value Z\n",
    "Z = 'red'\n",
    "def sense(p, world, Z):\n",
    "    q = []\n",
    "    for i, v in enumerate(p):\n",
    "        hit = (Z == world[i])\n",
    "        multiplier = hit * pHit + (1-hit) * pMiss\n",
    "        q.append(v * multiplier)\n",
    "    q = [v/sum(q) for v in q]\n",
    "    return q\n",
    "\n",
    "for z in measurements:\n",
    "    print([float(f\"{x:.4f}\") for x in p], f\"sum(p) = {sum(p):.2f}\" )\n",
    "    p = sense(p, world, z)\n",
    "    print([float(f\"{x:.4f}\") for x in p], f\"sum(p) = {sum(p):.2f}\" )\n",
    "    print(\"\".join(['--' for x in range(30)]))\n",
    " \n",
    "\n",
    "\n",
    "\n"
   ]
  },
  {
   "cell_type": "code",
   "execution_count": 59,
   "metadata": {},
   "outputs": [],
   "source": [
    "# Exact motion \n",
    "\n",
    "p = [1/9, 1/3, 1/3, 1/9, 1/9]\n",
    "\n",
    "def move(p, U):\n",
    "    q = []\n",
    "    for i in range(len(p)):\n",
    "        q.append(p[i-U] % len(p))\n",
    "    return q\n",
    "\n",
    "q = move(p, 1)\n",
    "assert q == [1/9, 1/9, 1/3, 1/3, 1/9]\n",
    "\n",
    "q = move(p, 2)\n",
    "assert q == [1/9, 1/9, 1/9, 1/3, 1/3]\n",
    "    "
   ]
  },
  {
   "cell_type": "code",
   "execution_count": 62,
   "metadata": {},
   "outputs": [
    {
     "name": "stdout",
     "output_type": "stream",
     "text": [
      "[0.0, 0.1, 0.8, 0.1, 0.0]\n",
      "[0.0, 0.0, 0.1, 0.8, 0.1]\n",
      "[0.0, 0.0, 0.1, 0.8, 0.1]\n"
     ]
    }
   ],
   "source": [
    "# Inexact motion\n",
    "p = [0, 1, 0, 0, 0]\n",
    "pExact = 0.8\n",
    "pOvershoot = 0.1\n",
    "pUndershoot = 0.1\n",
    "\n",
    "\n",
    "def move(p, U):\n",
    "    q = []\n",
    "    for i in range(len(p)):\n",
    "        iExact = (i-U)%len(p)\n",
    "        iOverShoot = (i-U-1)%len(p)\n",
    "        iUnderShoot = (i-U+1)%len(p)\n",
    "        q.append(p[iExact] * pExact + p[iOverShoot] * pOvershoot + p[iUnderShoot] * pUndershoot)   \n",
    "    \n",
    "    return q\n",
    "\n",
    "q = move(p, 1)\n",
    "print(q)\n",
    "\n",
    "q = move(p, 2)\n",
    "print(q)\n",
    "\n",
    "q = move(p, 42)\n",
    "print(q)"
   ]
  },
  {
   "cell_type": "markdown",
   "metadata": {},
   "source": [
    "# Limit distribution\n",
    "\n",
    "Assuming the initial prior distribution is p = [1, 0, 0, 0, 0]\n",
    "- what is the stationary distribution when the robot moves infinitely\n",
    "- https://youtu.be/kfPWiMsnWFI"
   ]
  },
  {
   "cell_type": "code",
   "execution_count": 66,
   "metadata": {},
   "outputs": [
    {
     "name": "stdout",
     "output_type": "stream",
     "text": [
      "[0.20000000000000365, 0.20000000000000373, 0.20000000000000365, 0.2000000000000035, 0.2000000000000035]\n"
     ]
    }
   ],
   "source": [
    "p = [0, 1, 0, 0, 0]\n",
    "n = 1000\n",
    "for i in range(n):\n",
    "    p = move(p, 1)\n",
    "\n",
    "print(p)"
   ]
  },
  {
   "cell_type": "code",
   "execution_count": 84,
   "metadata": {},
   "outputs": [
    {
     "name": "stdout",
     "output_type": "stream",
     "text": [
      "Before Sensing:                0.2000, 0.2000, 0.2000, 0.2000, 0.2000, entropy 0.6990\n",
      "After Sensing, Before moving:  0.1111, 0.3333, 0.3333, 0.1111, 0.1111, entropy 0.6362\n",
      "After moving:                  0.1111, 0.1333, 0.3111, 0.3111, 0.1333, entropy 0.6549\n",
      "----------------------------------------------------------------------\n",
      "Before Sensing:                0.1111, 0.1333, 0.3111, 0.3111, 0.1333, entropy 0.6549\n",
      "After Sensing, Before moving:  0.0588, 0.2118, 0.4941, 0.1647, 0.0706, entropy 0.5767\n",
      "After moving:                  0.0788, 0.0753, 0.2247, 0.4329, 0.1882, entropy 0.6112\n",
      "----------------------------------------------------------------------\n"
     ]
    },
    {
     "data": {
      "text/plain": [
       "0.007944389275074478"
      ]
     },
     "execution_count": 84,
     "metadata": {},
     "output_type": "execute_result"
    }
   ],
   "source": [
    "import math\n",
    "n = 5\n",
    "p = [1./n for i in range(n)]\n",
    "\n",
    "pExact = 0.8\n",
    "pOvershoot = 0.1\n",
    "pUndershoot = 0.1\n",
    "pHit = 0.6\n",
    "pMiss = 0.2\n",
    "world = ['green', 'red', 'red', 'green', 'green']\n",
    "measurements = ['red', 'red']\n",
    "motions = [1, 1]\n",
    "\n",
    "# sensor value Z\n",
    "Z = 'red'\n",
    "def sense(p, world, Z):\n",
    "    q = []\n",
    "    for i, v in enumerate(p):\n",
    "        hit = (Z == world[i])\n",
    "        multiplier = hit * pHit + (1-hit) * pMiss\n",
    "        q.append(v * multiplier)\n",
    "    q = [v/sum(q) for v in q]\n",
    "    return q\n",
    "\n",
    "def move(p, U):\n",
    "    q = []\n",
    "    for i in range(len(p)):\n",
    "        iExact = (i-U)%len(p)\n",
    "        iOverShoot = (i-U-1)%len(p)\n",
    "        iUnderShoot = (i-U+1)%len(p)\n",
    "        q.append(p[iExact] * pExact + p[iOverShoot] * pOvershoot + p[iUnderShoot] * pUndershoot)   \n",
    "    \n",
    "    return q\n",
    "\n",
    "def print_probs(s, p):\n",
    "    s2 = \", \".join([f\"{x:.4f}\" for x in p])\n",
    "    print(f\"{s:30} {s2}, entropy {entropy(p):.4f}\")\n",
    "\n",
    "def entropy(p):\n",
    "    v = [-x*math.log(x, 10) for x in p]\n",
    "    return sum(v)\n",
    "\n",
    "for i in range(len(measurements)):\n",
    "    print_probs(\"Before Sensing:\", p)\n",
    "    p = sense(p, world, measurements[i])\n",
    "\n",
    "    print_probs(\"After Sensing, Before moving:\", p)\n",
    "    p = move(p, motions[i])\n",
    "\n",
    "    print_probs(\"After moving:\", p)\n",
    "    print(\"\".join(['-' for x in range(70)]))\n",
    "\n",
    "0.0008/(0.0008+0.0999)"
   ]
  },
  {
   "cell_type": "code",
   "execution_count": 85,
   "metadata": {},
   "outputs": [
    {
     "data": {
      "text/plain": [
       "0.8333333333333334"
      ]
     },
     "execution_count": 85,
     "metadata": {},
     "output_type": "execute_result"
    }
   ],
   "source": [
    "0.25/0.3"
   ]
  }
 ],
 "metadata": {
  "kernelspec": {
   "display_name": "Python 3",
   "language": "python",
   "name": "python3"
  },
  "language_info": {
   "codemirror_mode": {
    "name": "ipython",
    "version": 3
   },
   "file_extension": ".py",
   "mimetype": "text/x-python",
   "name": "python",
   "nbconvert_exporter": "python",
   "pygments_lexer": "ipython3",
   "version": "3.11.4"
  },
  "orig_nbformat": 4
 },
 "nbformat": 4,
 "nbformat_minor": 2
}
