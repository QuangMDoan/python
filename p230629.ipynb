{
 "cells": [
  {
   "cell_type": "code",
   "execution_count": 4,
   "metadata": {},
   "outputs": [
    {
     "name": "stdout",
     "output_type": "stream",
     "text": [
      "[{'name': 'Cho', 'house': 'Ravenclaw'}, {'name': 'Draco', 'house': 'Slytherin'}, {'name': 'Harry', 'house': 'Gryffindor'}]\n"
     ]
    }
   ],
   "source": [
    "people = [\n",
    "    {\"name\": \"Harry\", \"house\": \"Gryffindor\"},\n",
    "    {\"name\": \"Cho\", \"house\" : \"Ravenclaw\"},\n",
    "    {\"name\": \"Draco\", \"house\": \"Slytherin\"}\n",
    "]\n",
    "\n",
    "def f(person):\n",
    "    return person[\"name\"]\n",
    "\n",
    "people.sort(key=f)\n",
    "print(people)"
   ]
  },
  {
   "cell_type": "code",
   "execution_count": 7,
   "metadata": {},
   "outputs": [
    {
     "name": "stdout",
     "output_type": "stream",
     "text": [
      "[{'name': 'Harry', 'house': 'Gryffindor'}, {'name': 'Cho', 'house': 'Ravenclaw'}, {'name': 'Draco', 'house': 'Slytherin'}]\n"
     ]
    }
   ],
   "source": [
    "people.sort(key= lambda person: person[\"house\"])\n",
    "print(people)"
   ]
  }
 ],
 "metadata": {
  "kernelspec": {
   "display_name": "Python 3",
   "language": "python",
   "name": "python3"
  },
  "language_info": {
   "codemirror_mode": {
    "name": "ipython",
    "version": 3
   },
   "file_extension": ".py",
   "mimetype": "text/x-python",
   "name": "python",
   "nbconvert_exporter": "python",
   "pygments_lexer": "ipython3",
   "version": "3.11.4"
  },
  "orig_nbformat": 4
 },
 "nbformat": 4,
 "nbformat_minor": 2
}
